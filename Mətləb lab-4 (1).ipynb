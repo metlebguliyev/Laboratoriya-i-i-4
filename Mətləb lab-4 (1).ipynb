{
  "metadata": {
    "language_info": {
      "codemirror_mode": {
        "name": "python",
        "version": 3
      },
      "file_extension": ".py",
      "mimetype": "text/x-python",
      "name": "python",
      "nbconvert_exporter": "python",
      "pygments_lexer": "ipython3",
      "version": "3.8"
    },
    "kernelspec": {
      "name": "python",
      "display_name": "Python (Pyodide)",
      "language": "python"
    }
  },
  "nbformat_minor": 4,
  "nbformat": 4,
  "cells": [
    {
      "cell_type": "code",
      "source": "vahidlər=[\"metr\",\"saniyə\",\"kiloqram\",\"mol\",\"kelvin\",\"amper\",\"kandela\"]\nprint(vahidlər)                  ",
      "metadata": {
        "trusted": true
      },
      "execution_count": 4,
      "outputs": [
        {
          "name": "stdout",
          "text": "['metr', 'saniyə', 'kiloqram', 'mol', 'kelvin', 'amper', 'kandela']\n",
          "output_type": "stream"
        }
      ]
    },
    {
      "cell_type": "code",
      "source": "x = 1    # int\ny = 7  # float\nz = 9   # complex\n\nprint(x,y,z)",
      "metadata": {
        "trusted": true
      },
      "execution_count": 5,
      "outputs": [
        {
          "name": "stdout",
          "text": "1 7 9\n",
          "output_type": "stream"
        }
      ]
    },
    {
      "cell_type": "code",
      "source": "x = 11\ny = 19\n\nprint(x + y)",
      "metadata": {
        "trusted": true
      },
      "execution_count": 15,
      "outputs": [
        {
          "name": "stdout",
          "text": "30\n",
          "output_type": "stream"
        }
      ]
    },
    {
      "cell_type": "code",
      "source": "dielektrik=[\"polietilen\",\"polivinilxlorid\",\"tikilmiş polietilen\",\"rezin\",\"yağlı kağız\"]           ",
      "metadata": {
        "trusted": true
      },
      "execution_count": 18,
      "outputs": []
    },
    {
      "cell_type": "code",
      "source": "print(dielektrik)",
      "metadata": {
        "trusted": true
      },
      "execution_count": 20,
      "outputs": [
        {
          "name": "stdout",
          "text": "['polietilen', 'polivinilxlorid', 'tikilmiş polietilen', 'rezin', 'yağlı kağız']\n",
          "output_type": "stream"
        }
      ]
    },
    {
      "cell_type": "code",
      "source": "dielektrik=[\"polietilen\",\"polivinilxlorid\",\"tikilmiş polietilen\",\"rezin\",\"yağlı kağız\"]           ",
      "metadata": {},
      "execution_count": 18,
      "outputs": []
    },
    {
      "cell_type": "code",
      "source": "print(dielektrik[-1])",
      "metadata": {
        "trusted": true
      },
      "execution_count": 21,
      "outputs": [
        {
          "name": "stdout",
          "text": "polivinilxlorid\n",
          "output_type": "stream"
        }
      ]
    },
    {
      "cell_type": "code",
      "source": "print(dielektrik[-2])",
      "metadata": {
        "trusted": true
      },
      "execution_count": 23,
      "outputs": [
        {
          "name": "stdout",
          "text": "rezin\n",
          "output_type": "stream"
        }
      ]
    },
    {
      "cell_type": "code",
      "source": "print(dielektrik[2:5])",
      "metadata": {
        "trusted": true
      },
      "execution_count": 24,
      "outputs": [
        {
          "name": "stdout",
          "text": "['tikilmiş polietilen', 'rezin', 'yağlı kağız']\n",
          "output_type": "stream"
        }
      ]
    },
    {
      "cell_type": "code",
      "source": "print(dielektrik[:4])",
      "metadata": {
        "trusted": true
      },
      "execution_count": 25,
      "outputs": [
        {
          "name": "stdout",
          "text": "['polietilen', 'polivinilxlorid', 'tikilmiş polietilen', 'rezin']\n",
          "output_type": "stream"
        }
      ]
    },
    {
      "cell_type": "code",
      "source": "print(dielektrik[2:])",
      "metadata": {
        "trusted": true
      },
      "execution_count": 26,
      "outputs": [
        {
          "name": "stdout",
          "text": "['tikilmiş polietilen', 'rezin', 'yağlı kağız']\n",
          "output_type": "stream"
        }
      ]
    },
    {
      "cell_type": "code",
      "source": "a = 20\nb = 100\n\nif b > a:\n    print(\"b böyükdür a-dan\")\n    ",
      "metadata": {
        "trusted": true
      },
      "execution_count": 29,
      "outputs": [
        {
          "name": "stdout",
          "text": "b böyükdür a-dan\n",
          "output_type": "stream"
        }
      ]
    },
    {
      "cell_type": "code",
      "source": "a = 100\nb = 30\nif b > a:\n  print(\"b böyükdür a-dan\")\nelif a == b:\n  print(\"a və b bərabərdir\")\nelse:\n  print(\"a böyükdür b-dən\")\n",
      "metadata": {
        "trusted": true
      },
      "execution_count": 31,
      "outputs": [
        {
          "name": "stdout",
          "text": "a böyükdür b-dən\n",
          "output_type": "stream"
        }
      ]
    },
    {
      "cell_type": "code",
      "source": "",
      "metadata": {},
      "execution_count": null,
      "outputs": []
    }
  ]
}